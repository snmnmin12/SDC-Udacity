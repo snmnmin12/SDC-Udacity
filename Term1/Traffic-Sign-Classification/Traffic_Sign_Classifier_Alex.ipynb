{
 "cells": [
  {
   "cell_type": "code",
   "execution_count": 1,
   "metadata": {
    "collapsed": true
   },
   "outputs": [],
   "source": [
    "import time\n",
    "import tensorflow as tf\n",
    "import numpy as np\n",
    "import pandas as pd\n",
    "from scipy.misc import imread\n",
    "from alexnet import AlexNet\n",
    "import pickle\n",
    "from sklearn.model_selection import train_test_split\n",
    "from sklearn.utils import shuffle"
   ]
  },
  {
   "cell_type": "code",
   "execution_count": 2,
   "metadata": {},
   "outputs": [
    {
     "name": "stdout",
     "output_type": "stream",
     "text": [
      "Epoch 1\n",
      "Time: 98.796 seconds\n",
      "Validation Loss = 0.570516066927\n",
      "Validation Accuracy = 0.841344479006\n",
      "\n",
      "Epoch 2\n",
      "Time: 95.451 seconds\n",
      "Validation Loss = 0.379196853878\n",
      "Validation Accuracy = 0.902473005589\n",
      "\n",
      "Epoch 3\n",
      "Time: 95.458 seconds\n",
      "Validation Loss = 0.289927116621\n",
      "Validation Accuracy = 0.926071055008\n",
      "\n",
      "Epoch 4\n",
      "Time: 95.456 seconds\n",
      "Validation Loss = 0.231105743214\n",
      "Validation Accuracy = 0.943660745447\n",
      "\n",
      "Epoch 5\n",
      "Time: 95.465 seconds\n",
      "Validation Loss = 0.210027851271\n",
      "Validation Accuracy = 0.947927550981\n",
      "\n",
      "Epoch 6\n",
      "Time: 95.446 seconds\n",
      "Validation Loss = 0.190457944197\n",
      "Validation Accuracy = 0.95106234722\n",
      "\n",
      "Epoch 7\n",
      "Time: 95.435 seconds\n",
      "Validation Loss = 0.168736438642\n",
      "Validation Accuracy = 0.955590386189\n",
      "\n",
      "Epoch 8\n",
      "Time: 95.440 seconds\n",
      "Validation Loss = 0.155134805198\n",
      "Validation Accuracy = 0.959683036875\n",
      "\n",
      "Epoch 9\n",
      "Time: 95.445 seconds\n",
      "Validation Loss = 0.148924623241\n",
      "Validation Accuracy = 0.960989201995\n",
      "\n",
      "Epoch 10\n",
      "Time: 95.428 seconds\n",
      "Validation Loss = 0.134092179157\n",
      "Validation Accuracy = 0.964994775402\n",
      "\n",
      "Model saved!\n"
     ]
    }
   ],
   "source": [
    "nb_classes = 43\n",
    "epochs = 10\n",
    "batch_size = 128\n",
    "\n",
    "with open('./train.p', 'rb') as f:\n",
    "    data = pickle.load(f)\n",
    "\n",
    "X_train, X_val, y_train, y_val = train_test_split(data['features'], data['labels'], test_size=0.33, random_state=0)\n",
    "\n",
    "features = tf.placeholder(tf.float32, (None, 32, 32, 3))\n",
    "labels = tf.placeholder(tf.int64, None)\n",
    "resized = tf.image.resize_images(features, (227, 227))\n",
    "\n",
    "# Returns the second final layer of the AlexNet model,\n",
    "# this allows us to redo the last layer for the traffic signs\n",
    "# model.\n",
    "fc7 = AlexNet(resized, feature_extract=True)\n",
    "fc7 = tf.stop_gradient(fc7)\n",
    "shape = (fc7.get_shape().as_list()[-1], nb_classes)\n",
    "fc8W = tf.Variable(tf.truncated_normal(shape, stddev=1e-2))\n",
    "fc8b = tf.Variable(tf.zeros(nb_classes))\n",
    "logits = tf.nn.xw_plus_b(fc7, fc8W, fc8b)\n",
    "\n",
    "saver = tf.train.Saver()\n",
    "\n",
    "cross_entropy = tf.nn.sparse_softmax_cross_entropy_with_logits(logits, labels)\n",
    "loss_op = tf.reduce_mean(cross_entropy)\n",
    "opt = tf.train.AdamOptimizer()\n",
    "train_op = opt.minimize(loss_op, var_list=[fc8W, fc8b])\n",
    "init_op = tf.global_variables_initializer()\n",
    "\n",
    "preds = tf.arg_max(logits, 1)\n",
    "accuracy_op = tf.reduce_mean(tf.cast(tf.equal(preds, labels), tf.float32))\n",
    "\n",
    "\n",
    "def eval_on_data(X, y, sess):\n",
    "    total_acc = 0\n",
    "    total_loss = 0\n",
    "    for offset in range(0, X.shape[0], batch_size):\n",
    "        end = offset + batch_size\n",
    "        X_batch = X[offset:end]\n",
    "        y_batch = y[offset:end]\n",
    "\n",
    "        loss, acc = sess.run([loss_op, accuracy_op], feed_dict={features: X_batch, labels: y_batch})\n",
    "        total_loss += (loss * X_batch.shape[0])\n",
    "        total_acc += (acc * X_batch.shape[0])\n",
    "\n",
    "    return total_loss/X.shape[0], total_acc/X.shape[0]\n",
    "\n",
    "with tf.Session() as sess:\n",
    "    sess.run(init_op)\n",
    "\n",
    "    for i in range(epochs):\n",
    "        # training\n",
    "        X_train, y_train = shuffle(X_train, y_train)\n",
    "        t0 = time.time()\n",
    "        for offset in range(0, X_train.shape[0], batch_size):\n",
    "            end = offset + batch_size\n",
    "            sess.run(train_op, feed_dict={features: X_train[offset:end], labels: y_train[offset:end]})\n",
    "\n",
    "        val_loss, val_acc = eval_on_data(X_val, y_val, sess)\n",
    "        print(\"Epoch\", i+1)\n",
    "        print(\"Time: %.3f seconds\" % (time.time() - t0))\n",
    "        print(\"Validation Loss =\", val_loss)\n",
    "        print(\"Validation Accuracy =\", val_acc)\n",
    "        print(\"\")\n",
    "    saver.save(sess, './alexnet')\n",
    "    print(\"Model saved!\")\n"
   ]
  },
  {
   "cell_type": "markdown",
   "metadata": {},
   "source": [
    "Now we can test on the new images we found."
   ]
  },
  {
   "cell_type": "code",
   "execution_count": 18,
   "metadata": {
    "collapsed": true
   },
   "outputs": [],
   "source": [
    "import pandas as pd\n",
    "import matplotlib.pyplot as plt\n",
    "# Visualizations will be shown in the notebook.\n",
    "%matplotlib inline\n",
    "df = pd.read_csv('signnames.csv')\n",
    "class_names = df['SignName']"
   ]
  },
  {
   "cell_type": "code",
   "execution_count": 20,
   "metadata": {},
   "outputs": [
    {
     "name": "stdout",
     "output_type": "stream",
     "text": [
      "Image 0\n",
      "Road work: 0.876\n",
      "Slippery road: 0.124\n",
      "Priority road: 0.000\n",
      "Dangerous curve to the left: 0.000\n",
      "No passing: 0.000\n",
      "\n",
      "Image 1\n",
      "Stop: 1.000\n",
      "No entry: 0.000\n",
      "Speed limit (30km/h): 0.000\n",
      "Speed limit (50km/h): 0.000\n",
      "Speed limit (120km/h): 0.000\n",
      "\n",
      "Time: 0.663 seconds\n"
     ]
    },
    {
     "data": {
      "image/png": "[encoded data removed]",
      "text/plain": [
       "<matplotlib.figure.Figure at 0x7f55bc2a6128>"
      ]
     },
     "metadata": {},
     "output_type": "display_data"
    }
   ],
   "source": [
    "#show images first\n",
    "plt.subplot(1, 2, 1)\n",
    "plt.imshow(imread(\"construction.jpg\"))\n",
    "plt.title(\"construction\")\n",
    "plt.subplot(1, 2, 2)\n",
    "plt.imshow(imread(\"stop.jpg\"))\n",
    "plt.title(\"stop\")\n",
    "\n",
    "#predict the image with top 5 probability\n",
    "sess = tf.Session()\n",
    "# Read Images\n",
    "im1 = imread(\"construction.jpg\").astype(np.float32)\n",
    "im2 = imread(\"stop.jpg\").astype(np.float32)\n",
    "im1 = im1 - np.mean(im1)\n",
    "im2 = im2 - np.mean(im2)\n",
    "\n",
    "# Run Inference\n",
    "t = time.time()\n",
    "# output = sess.run(preds, feed_dict={features: [im1, im2]})\n",
    "\n",
    "pred = tf.nn.softmax(logits)\n",
    "with tf.Session() as sess:\n",
    "    saver.restore(sess, tf.train.latest_checkpoint('.'))\n",
    "    output = sess.run(pred, feed_dict={features: [im1, im2]})\n",
    "    \n",
    "# # Print Output\n",
    "for input_im_ind in range(output.shape[0]):\n",
    "    inds = np.argsort(output)[input_im_ind, :]\n",
    "    print(\"Image\", input_im_ind)\n",
    "    for i in range(5):\n",
    "        print(\"%s: %.3f\" % (class_names[inds[-1 - i]], output[input_im_ind, inds[-1 - i]]))\n",
    "    print()\n",
    "\n",
    "print(\"Time: %.3f seconds\" % (time.time() - t))"
   ]
  },
  {
   "cell_type": "code",
   "execution_count": null,
   "metadata": {
    "collapsed": true
   },
   "outputs": [],
   "source": []
  }
 ],
 "metadata": {
  "kernelspec": {
   "display_name": "Python 3",
   "language": "python",
   "name": "python3"
  },
  "language_info": {
   "codemirror_mode": {
    "name": "ipython",
    "version": 3
   },
   "file_extension": ".py",
   "mimetype": "text/x-python",
   "name": "python",
   "nbconvert_exporter": "python",
   "pygments_lexer": "ipython3",
   "version": "3.5.2"
  },
  "widgets": {
   "state": {},
   "version": "1.1.2"
  }
 },
 "nbformat": 4,
 "nbformat_minor": 2
}
